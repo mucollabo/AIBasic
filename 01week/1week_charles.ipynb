{
 "cells": [
  {
   "cell_type": "markdown",
   "id": "5255fb64",
   "metadata": {},
   "source": [
    "# 1주차 미션: 파이썬 다양한 자료형 연습\n",
    "## Q1. 주어진 리스트에서 홀수 추출"
   ]
  },
  {
   "cell_type": "code",
   "execution_count": 1,
   "id": "4042bef9",
   "metadata": {},
   "outputs": [
    {
     "name": "stdout",
     "output_type": "stream",
     "text": [
      "[1, 5, 7, 15, 22, 29]\n"
     ]
    }
   ],
   "source": [
    "num_list = [1, 5, 7, 15, 16, 22, 28, 29]    # 주어진 리스트\n",
    "\n",
    "def get_odd_num(num_list):\n",
    "    for num in num_list:\n",
    "        if num % 2 == 0:                    # 요소 중 짝수 검출\n",
    "            num_list.remove(num)            # 확인 된 짝수 제거\n",
    "    return num_list                         # 짝수 제거 된 리스트 반환\n",
    "\n",
    "print(get_odd_num(num_list))"
   ]
  },
  {
   "cell_type": "markdown",
   "id": "70e0ff36",
   "metadata": {},
   "source": [
    "## Q2. string 문장의 단어를 역순으로 출력하는 함수"
   ]
  },
  {
   "cell_type": "code",
   "execution_count": 2,
   "id": "68e3184c",
   "metadata": {},
   "outputs": [
    {
     "name": "stdout",
     "output_type": "stream",
     "text": [
      "where there is a will there is a way\n"
     ]
    }
   ],
   "source": [
    "sentence = \"way a is there will a is there where\"\n",
    "\n",
    "def reverse_sentence(sentence):\n",
    "    re_sen = ' '.join(reversed(sentence.split()))    # split(), reversed(), join()를 이용 재정렬\n",
    "    return re_sen                                    # re_sen 반환\n",
    "\n",
    "print(reverse_sentence(sentence))"
   ]
  },
  {
   "cell_type": "markdown",
   "id": "39bc0c6a",
   "metadata": {},
   "source": [
    "## Q3. 튜플형태가 포함 된 리스트를 불러와 각각의 평균을 출력"
   ]
  },
  {
   "cell_type": "code",
   "execution_count": 3,
   "id": "4f2752d5",
   "metadata": {},
   "outputs": [
    {
     "name": "stdout",
     "output_type": "stream",
     "text": [
      "1 번, 평균 : 100.0\n",
      "2 번, 평균 : 92.5\n",
      "3 번, 평균 : 57.5\n",
      "4 번, 평균 : 77.5\n",
      "5 번, 평균 : 70.0\n"
     ]
    }
   ],
   "source": [
    "score = [(100, 100), (95, 90), (55, 60), (75, 80), (70, 70)]\n",
    "\n",
    "def get_avg(score):\n",
    "    c = 0                                       # 각각의 넘버링 카운트\n",
    "    for m, f in score:                          # 학생별 중간고사 점수, 기말고사 점수를 추출\n",
    "        c += 1\n",
    "        print(f'{c} 번, 평균 : {(m + f)/2}')      # 프린트 포맷팅을 사용, 넘버링과 평균점수 출력\n",
    "\n",
    "get_avg(score)"
   ]
  },
  {
   "cell_type": "markdown",
   "id": "416b4f77",
   "metadata": {},
   "source": [
    "## Q4. 2개의 딕셔너리를 합쳐서 출력(중복되는 물품은 합쳐서 표시)"
   ]
  },
  {
   "cell_type": "code",
   "execution_count": 4,
   "id": "434d5bd3",
   "metadata": {},
   "outputs": [
    {
     "data": {
      "text/plain": [
       "{'감': 35, '귤': 25, '배': 30, '사과': 35, '포도': 10}"
      ]
     },
     "execution_count": 4,
     "metadata": {},
     "output_type": "execute_result"
    }
   ],
   "source": [
    "dict_first = {'사과': 30, '배': 15, '감': 10, '포도': 10}\n",
    "dict_second = {'사과': 5, '감': 25, '배': 15, '귤': 25}\n",
    "\n",
    "def merge_dict(dict_first, dict_second):\n",
    "    dict_final = {}                                                   # 빈 딕셔너리 생성\n",
    "    listDictKeys = sorted(set(dict_first).union(set(dict_second)))    # 두 딕셔너리 중 키값을 축출하여 합집합(union():중복제거)처리하고 리스트 형태로 정렬\n",
    "    for fruit in listDictKeys:\n",
    "        if fruit in dict_first and fruit in dict_second:              # 추출된 리스트의 요소가 두 딕셔너리 모두에 있으면 값을 합산하여 dict_final()에 저장\n",
    "            dict_final[fruit] = dict_first[fruit] + dict_second[fruit]\n",
    "        elif fruit in dict_first and fruit not in dict_second:        # 추출된 리스트의 요소가 첫 딕셔너리에만 있을 경우 dict_final()에 저장\n",
    "            dict_final[fruit] = dict_first[fruit]\n",
    "        else:                                                         # 그 외 경우 dict_final()에 저장\n",
    "            dict_final[fruit] = dict_second[fruit]\n",
    "\n",
    "    return dict_final                                                 # 최종 저장 된 dict_final() 반환\n",
    "\n",
    "merge_dict(dict_first, dict_second)"
   ]
  },
  {
   "cell_type": "markdown",
   "id": "3931f907",
   "metadata": {},
   "source": [
    "## Q5. string 안에서 숫자를 제거한 후 남은 string만 리스트의 형태로 출력"
   ]
  },
  {
   "cell_type": "code",
   "execution_count": 5,
   "id": "2a56ac3f",
   "metadata": {},
   "outputs": [
    {
     "name": "stdout",
     "output_type": "stream",
     "text": [
      "['cat', 'dog', 'cow']\n"
     ]
    }
   ],
   "source": [
    "def find_string(inputs):\n",
    "    import re                                # 정규표현식 라이브러리 임포트\n",
    "    strings = re.findall(r'\\D+', inputs)     # inputs 중 정규표현식(r'\\D+':숫자가 아닌것 1자리이상 추출)을 활용\n",
    "    return strings                           # 추출된 strings 반환\n",
    "\n",
    "inputs = \"cat32dog16cow5\"\n",
    "\n",
    "string_list = find_string(inputs)\n",
    "print(string_list)"
   ]
  },
  {
   "cell_type": "code",
   "execution_count": null,
   "id": "caa6e221",
   "metadata": {},
   "outputs": [],
   "source": []
  }
 ],
 "metadata": {
  "kernelspec": {
   "display_name": "Python 3 (ipykernel)",
   "language": "python",
   "name": "python3"
  },
  "language_info": {
   "codemirror_mode": {
    "name": "ipython",
    "version": 3
   },
   "file_extension": ".py",
   "mimetype": "text/x-python",
   "name": "python",
   "nbconvert_exporter": "python",
   "pygments_lexer": "ipython3",
   "version": "3.7.4"
  }
 },
 "nbformat": 4,
 "nbformat_minor": 5
}
