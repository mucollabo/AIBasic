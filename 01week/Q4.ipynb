{
 "cells": [
  {
   "cell_type": "code",
   "execution_count": 73,
   "metadata": {
    "collapsed": true,
    "pycharm": {
     "name": "#%%\n"
    }
   },
   "outputs": [
    {
     "data": {
      "text/plain": "{'감': 35, '귤': 25, '배': 30, '사과': 35, '포도': 10}"
     },
     "execution_count": 73,
     "metadata": {},
     "output_type": "execute_result"
    }
   ],
   "source": [
    "dict_first = {'사과': 30, '배': 15, '감': 10, '포도': 10}\n",
    "dict_second = {'사과': 5, '감': 25, '배': 15, '귤': 25}\n",
    "\n",
    "def merge_dict(dict_first, dict_second):\n",
    "    dict_final = {}\n",
    "    listDictKeys = sorted(set(dict_first).union(set(dict_second)))\n",
    "    for fruit in listDictKeys:\n",
    "        if fruit in dict_first and fruit in dict_second:\n",
    "            dict_final[fruit] = dict_first[fruit] + dict_second[fruit]\n",
    "        elif fruit in dict_first and fruit not in dict_second:\n",
    "            dict_final[fruit] = dict_first[fruit]\n",
    "        else:\n",
    "            dict_final[fruit] = dict_second[fruit]\n",
    "\n",
    "    return dict_final\n",
    "\n",
    "merge_dict(dict_first, dict_second)"
   ]
  }
 ],
 "metadata": {
  "kernelspec": {
   "display_name": "Python 3",
   "language": "python",
   "name": "python3"
  },
  "language_info": {
   "codemirror_mode": {
    "name": "ipython",
    "version": 2
   },
   "file_extension": ".py",
   "mimetype": "text/x-python",
   "name": "python",
   "nbconvert_exporter": "python",
   "pygments_lexer": "ipython2",
   "version": "2.7.6"
  }
 },
 "nbformat": 4,
 "nbformat_minor": 0
}