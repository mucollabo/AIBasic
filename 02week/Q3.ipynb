{
 "cells": [
  {
   "cell_type": "markdown",
   "metadata": {
    "collapsed": true,
    "pycharm": {
     "name": "#%% md\n"
    }
   },
   "source": [
    "### Q3. 시험성적 데이터 CSV 파일이 있다. 파일 입출력을 이용해 리스트로 만들기\n",
    "#### (파일 입출력에 사용하는 open 함수를 이용해 CSV 파일 내부 데이터를 읽기)\n",
    "##### 파일의 경로를 file_path로 설정\n",
    "##### ex) file_path = \"./data-01-test-score.csv\""
   ]
  },
  {
   "cell_type": "code",
   "execution_count": 32,
   "outputs": [
    {
     "name": "stdout",
     "output_type": "stream",
     "text": [
      "73,80,75,152\n",
      "93,88,93,185\n",
      "89,91,90,180\n",
      "96,98,100,196\n",
      "73,66,70,142\n",
      "53,46,55,101\n",
      "69,74,77,149\n",
      "47,56,60,115\n",
      "87,79,90,175\n",
      "79,70,88,164\n",
      "69,70,73,141\n",
      "70,65,74,141\n",
      "93,95,91,184\n",
      "79,80,73,152\n",
      "70,73,78,148\n",
      "93,89,96,192\n",
      "78,75,68,147\n",
      "81,90,93,183\n",
      "88,92,86,177\n",
      "78,83,77,159\n",
      "82,86,90,177\n",
      "86,82,89,175\n",
      "78,83,85,175\n",
      "76,83,71,149\n",
      "96,93,95,192\n"
     ]
    }
   ],
   "source": [
    "def read_file(file_path):\n",
    "    f = open(file_path, \"r\")\n",
    "    contents = f.read()\n",
    "    f.close()\n",
    "    return contents\n",
    "\n",
    "file_path = './data-01-test-score.csv'\n",
    "print(read_file(file_path))"
   ],
   "metadata": {
    "collapsed": false,
    "pycharm": {
     "name": "#%%\n"
    }
   }
  },
  {
   "cell_type": "code",
   "execution_count": null,
   "outputs": [],
   "source": [],
   "metadata": {
    "collapsed": false,
    "pycharm": {
     "name": "#%%\n"
    }
   }
  }
 ],
 "metadata": {
  "kernelspec": {
   "display_name": "Python 3",
   "language": "python",
   "name": "python3"
  },
  "language_info": {
   "codemirror_mode": {
    "name": "ipython",
    "version": 2
   },
   "file_extension": ".py",
   "mimetype": "text/x-python",
   "name": "python",
   "nbconvert_exporter": "python",
   "pygments_lexer": "ipython2",
   "version": "2.7.6"
  }
 },
 "nbformat": 4,
 "nbformat_minor": 0
}