{
 "cells": [
  {
   "cell_type": "markdown",
   "metadata": {
    "collapsed": true,
    "pycharm": {
     "name": "#%% md\n"
    }
   },
   "source": [
    "### Q5. Q4에서 구현한 클래스에서 merge_list 함수를 평균을 구하는 함수로 변경\n",
    "#### (리스트의 데이터를 다루는 함수를 이용해서 구현)"
   ]
  },
  {
   "cell_type": "code",
   "execution_count": 2,
   "outputs": [
    {
     "name": "stdout",
     "output_type": "stream",
     "text": [
      "[95.0, 114.75, 112.5, 122.5, 87.75, 63.75, 92.25, 69.5, 107.75, 100.25, 88.25, 87.5, 115.75, 96.0, 92.25, 117.5, 92.0, 111.75, 110.75, 99.25, 108.75, 108.0, 105.25, 94.75, 119.0]\n"
     ]
    }
   ],
   "source": [
    "import re\n",
    "\n",
    "class ReadCSV():\n",
    "    def __init__(self, file_path):\n",
    "        self.file_path = file_path\n",
    "\n",
    "    def read_file(self):\n",
    "        f = open(self.file_path, \"r\")\n",
    "        contents = f.read()\n",
    "        f.close()\n",
    "        return contents\n",
    "\n",
    "    def avrg_list(self):\n",
    "        f = open(self.file_path, \"r\")\n",
    "        contents = f.readlines()\n",
    "        merglist = []\n",
    "        for content in contents:\n",
    "            content = content.strip()\n",
    "            nums = re.findall(r'\\d+', content)\n",
    "            merge = 0\n",
    "            for num in nums:\n",
    "                merge += int(num)\n",
    "\n",
    "            merglist.append(merge/len(nums))\n",
    "        return merglist\n",
    "\n",
    "file_path = \"./data-01-test-score.csv\"\n",
    "read_csv = ReadCSV(file_path)\n",
    "print(read_csv.avrg_list())"
   ],
   "metadata": {
    "collapsed": false,
    "pycharm": {
     "name": "#%%\n"
    }
   }
  },
  {
   "cell_type": "code",
   "execution_count": null,
   "outputs": [],
   "source": [],
   "metadata": {
    "collapsed": false,
    "pycharm": {
     "name": "#%%\n"
    }
   }
  }
 ],
 "metadata": {
  "kernelspec": {
   "display_name": "Python 3",
   "language": "python",
   "name": "python3"
  },
  "language_info": {
   "codemirror_mode": {
    "name": "ipython",
    "version": 2
   },
   "file_extension": ".py",
   "mimetype": "text/x-python",
   "name": "python",
   "nbconvert_exporter": "python",
   "pygments_lexer": "ipython2",
   "version": "2.7.6"
  }
 },
 "nbformat": 4,
 "nbformat_minor": 0
}