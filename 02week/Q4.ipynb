{
 "cells": [
  {
   "cell_type": "markdown",
   "metadata": {
    "collapsed": true,
    "pycharm": {
     "name": "#%% md\n"
    }
   },
   "source": [
    "### Q4. 효율성을 위하여 Q3.에 구현한 함수를 포함한 클래스를 구현\n",
    "#### (merge list를 이용해 리스트 내 데이터의 합을 출력/ 데이터를 합치기 전 데이터의 자료형을 변경)"
   ]
  },
  {
   "cell_type": "code",
   "execution_count": 90,
   "outputs": [
    {
     "name": "stdout",
     "output_type": "stream",
     "text": [
      "73,80,75,152\n",
      "93,88,93,185\n",
      "89,91,90,180\n",
      "96,98,100,196\n",
      "73,66,70,142\n",
      "53,46,55,101\n",
      "69,74,77,149\n",
      "47,56,60,115\n",
      "87,79,90,175\n",
      "79,70,88,164\n",
      "69,70,73,141\n",
      "70,65,74,141\n",
      "93,95,91,184\n",
      "79,80,73,152\n",
      "70,73,78,148\n",
      "93,89,96,192\n",
      "78,75,68,147\n",
      "81,90,93,183\n",
      "88,92,86,177\n",
      "78,83,77,159\n",
      "82,86,90,177\n",
      "86,82,89,175\n",
      "78,83,85,175\n",
      "76,83,71,149\n",
      "96,93,95,192\n",
      "[380, 459, 450, 490, 351, 255, 369, 278, 431, 401, 353, 350, 463, 384, 369, 470, 368, 447, 443, 397, 435, 432, 421, 379, 476]\n"
     ]
    }
   ],
   "source": [
    "import re\n",
    "\n",
    "class ReadCSV:\n",
    "    def __init__(self, file_path):\n",
    "        self.file_path = file_path\n",
    "\n",
    "    def read_file(self):\n",
    "        f = open(self.file_path, \"r\")\n",
    "        contents = f.read()\n",
    "        f.close()\n",
    "        return contents\n",
    "\n",
    "    def merge_list(self):\n",
    "        f = open(self.file_path, \"r\")\n",
    "        contents = f.readlines()\n",
    "        merglist = []\n",
    "        for content in contents:\n",
    "            content = content.strip()\n",
    "            nums = re.findall(r'\\d+', content)\n",
    "            merge = 0\n",
    "            for num in nums:\n",
    "                merge += int(num)\n",
    "\n",
    "            merglist.append(merge)\n",
    "        return merglist\n",
    "\n",
    "file_path = \"./data-01-test-score.csv\"\n",
    "read_csv = ReadCSV(file_path)\n",
    "print(read_csv.read_file())\n",
    "print(read_csv.merge_list())\n"
   ],
   "metadata": {
    "collapsed": false,
    "pycharm": {
     "name": "#%%\n"
    }
   }
  },
  {
   "cell_type": "code",
   "execution_count": null,
   "outputs": [],
   "source": [],
   "metadata": {
    "collapsed": false,
    "pycharm": {
     "name": "#%%\n"
    }
   }
  }
 ],
 "metadata": {
  "kernelspec": {
   "display_name": "Python 3",
   "language": "python",
   "name": "python3"
  },
  "language_info": {
   "codemirror_mode": {
    "name": "ipython",
    "version": 2
   },
   "file_extension": ".py",
   "mimetype": "text/x-python",
   "name": "python",
   "nbconvert_exporter": "python",
   "pygments_lexer": "ipython2",
   "version": "2.7.6"
  }
 },
 "nbformat": 4,
 "nbformat_minor": 0
}