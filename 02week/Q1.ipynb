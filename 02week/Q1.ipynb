{
 "cells": [
  {
   "cell_type": "markdown",
   "source": [
    "### Q1. 중간고사 기말고사 점수를 따로 받아 저장하는 클래스 구현.\n",
    "####    (단 생성자의 인스턴스 private로 선언/ 데코레이터 이용 데이터 저장/ 함수를 이용해 평균값 출력)"
   ],
   "metadata": {
    "collapsed": false,
    "pycharm": {
     "name": "#%% md\n"
    }
   }
  },
  {
   "cell_type": "code",
   "execution_count": 6,
   "outputs": [
    {
     "ename": "AttributeError",
     "evalue": "'Score' object has no attribute 'mid'",
     "output_type": "error",
     "traceback": [
      "\u001B[0;31m---------------------------------------------------------------------------\u001B[0m",
      "\u001B[0;31mAttributeError\u001B[0m                            Traceback (most recent call last)",
      "\u001B[0;32m/var/folders/6x/69bq11g51vnfm5ndy6x__4v80000gn/T/ipykernel_41670/3402084903.py\u001B[0m in \u001B[0;36m<module>\u001B[0;34m\u001B[0m\n\u001B[1;32m      8\u001B[0m \u001B[0;34m\u001B[0m\u001B[0m\n\u001B[1;32m      9\u001B[0m \u001B[0mscore\u001B[0m \u001B[0;34m=\u001B[0m \u001B[0mScore\u001B[0m\u001B[0;34m(\u001B[0m\u001B[0;36m50\u001B[0m\u001B[0;34m,\u001B[0m \u001B[0;36m75\u001B[0m\u001B[0;34m)\u001B[0m\u001B[0;34m\u001B[0m\u001B[0;34m\u001B[0m\u001B[0m\n\u001B[0;32m---> 10\u001B[0;31m \u001B[0mprint\u001B[0m\u001B[0;34m(\u001B[0m\u001B[0;34m(\u001B[0m\u001B[0mscore\u001B[0m\u001B[0;34m.\u001B[0m\u001B[0mmid\u001B[0m \u001B[0;34m+\u001B[0m \u001B[0mscore\u001B[0m\u001B[0;34m.\u001B[0m\u001B[0mfinal\u001B[0m\u001B[0;34m)\u001B[0m \u001B[0;34m/\u001B[0m \u001B[0;36m2\u001B[0m\u001B[0;34m)\u001B[0m\u001B[0;34m\u001B[0m\u001B[0;34m\u001B[0m\u001B[0m\n\u001B[0m",
      "\u001B[0;31mAttributeError\u001B[0m: 'Score' object has no attribute 'mid'"
     ]
    }
   ],
   "source": [
    "class Score:\n",
    "    def __init__(self, mid, final):\n",
    "        self.__mid = mid\n",
    "        self.__final = final\n",
    "\n",
    "    def average(self, **kwargs):\n",
    "        avg = (self.__mid + self.__final) / 2\n",
    "\n",
    "score = Score(50, 75)\n",
    "print((score.mid + score.final) / 2)"
   ],
   "metadata": {
    "collapsed": false,
    "pycharm": {
     "name": "#%%\n"
    }
   }
  },
  {
   "cell_type": "code",
   "execution_count": null,
   "outputs": [],
   "source": [],
   "metadata": {
    "collapsed": false,
    "pycharm": {
     "name": "#%%\n"
    }
   }
  }
 ],
 "metadata": {
  "kernelspec": {
   "display_name": "Python 3",
   "language": "python",
   "name": "python3"
  },
  "language_info": {
   "codemirror_mode": {
    "name": "ipython",
    "version": 2
   },
   "file_extension": ".py",
   "mimetype": "text/x-python",
   "name": "python",
   "nbconvert_exporter": "python",
   "pygments_lexer": "ipython2",
   "version": "2.7.6"
  }
 },
 "nbformat": 4,
 "nbformat_minor": 0
}