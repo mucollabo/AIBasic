{
 "cells": [
  {
   "cell_type": "markdown",
   "source": [
    "### Q1. 중간고사 기말고사 점수를 따로 받아 저장하는 클래스 구현.\n",
    "####    (단 생성자의 인스턴스 private로 선언/ 데코레이터 이용 데이터 저장/ 함수를 이용해 평균값 출력)"
   ],
   "metadata": {
    "collapsed": false,
    "pycharm": {
     "name": "#%% md\n"
    }
   }
  },
  {
   "cell_type": "code",
   "execution_count": 7,
   "outputs": [
    {
     "name": "stdout",
     "output_type": "stream",
     "text": [
      "62.5\n",
      "62.5\n"
     ]
    }
   ],
   "source": [
    "class Score:\n",
    "    def __init__(self, mid, final):\n",
    "        self.__mid = mid\n",
    "        self.__final = final\n",
    "\n",
    "    @property\n",
    "    def mid(self):\n",
    "        return self.__mid\n",
    "\n",
    "    @property\n",
    "    def final(self):\n",
    "        return self.__final\n",
    "\n",
    "    def average(self):\n",
    "        avr = (self.__mid + self.__final) / 2\n",
    "        return avr\n",
    "\n",
    "score = Score(50, 75)\n",
    "print((score.mid + score.final) / 2)\n",
    "print(score.average())"
   ],
   "metadata": {
    "collapsed": false,
    "pycharm": {
     "name": "#%%\n"
    }
   }
  },
  {
   "cell_type": "code",
   "execution_count": null,
   "outputs": [],
   "source": [],
   "metadata": {
    "collapsed": false,
    "pycharm": {
     "name": "#%%\n"
    }
   }
  }
 ],
 "metadata": {
  "kernelspec": {
   "display_name": "Python 3",
   "language": "python",
   "name": "python3"
  },
  "language_info": {
   "codemirror_mode": {
    "name": "ipython",
    "version": 2
   },
   "file_extension": ".py",
   "mimetype": "text/x-python",
   "name": "python",
   "nbconvert_exporter": "python",
   "pygments_lexer": "ipython2",
   "version": "2.7.6"
  }
 },
 "nbformat": 4,
 "nbformat_minor": 0
}