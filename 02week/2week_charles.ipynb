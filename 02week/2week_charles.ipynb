{
 "cells": [
  {
   "cell_type": "markdown",
   "metadata": {
    "collapsed": true,
    "pycharm": {
     "name": "#%% md\n"
    }
   },
   "source": [
    "### Q1. 중간고사 기말고사 점수를 따로 받아 저장하는 클래스 구현.\n",
    "####    (단 생성자의 인스턴스 private로 선언/ 데코레이터 이용 데이터 저장/ 함수를 이용해 평균값 출력)"
   ]
  },
  {
   "cell_type": "code",
   "execution_count": 1,
   "outputs": [
    {
     "name": "stdout",
     "output_type": "stream",
     "text": [
      "62.5\n",
      "62.5\n"
     ]
    }
   ],
   "source": [
    "class Score:\n",
    "    def __init__(self, mid, final):\n",
    "        self.__mid = mid\n",
    "        self.__final = final\n",
    "\n",
    "    @property\n",
    "    def mid(self):\n",
    "        return self.__mid\n",
    "\n",
    "    @property\n",
    "    def final(self):\n",
    "        return self.__final\n",
    "\n",
    "    def average(self):\n",
    "        avr = (self.__mid + self.__final) / 2\n",
    "        return avr\n",
    "\n",
    "score = Score(50, 75)\n",
    "print((score.mid + score.final) / 2)\n",
    "print(score.average())"
   ],
   "metadata": {
    "collapsed": false,
    "pycharm": {
     "name": "#%%\n"
    }
   }
  },
  {
   "cell_type": "markdown",
   "source": [
    "### Q2. Car 클래스를 이용해서 Bike라는 클래스를 새로 제작.\n",
    "#### (Car 클래스를 상속받아서 새로운 Bike 클래스를 아래와 같이 구성)"
   ],
   "metadata": {
    "collapsed": false,
    "pycharm": {
     "name": "#%% md\n"
    }
   }
  },
  {
   "cell_type": "code",
   "execution_count": 2,
   "outputs": [
    {
     "name": "stdout",
     "output_type": "stream",
     "text": [
      "gas 2 small\n"
     ]
    }
   ],
   "source": [
    "class Car:\n",
    "    def __init__(self, fuel, wheels):\n",
    "        self.fuel = fuel\n",
    "        self.wheels = wheels\n",
    "\n",
    "class Bike(Car):\n",
    "    def __init__(self, fuel, wheels, size):\n",
    "        super().__init__(fuel, wheels)\n",
    "        self.size = size\n",
    "\n",
    "bike = Bike(\"gas\", 2, \"small\")\n",
    "print(bike.fuel, bike.wheels, bike.size)"
   ],
   "metadata": {
    "collapsed": false,
    "pycharm": {
     "name": "#%%\n"
    }
   }
  },
  {
   "cell_type": "markdown",
   "source": [
    "### Q3. 시험성적 데이터 CSV 파일이 있다. 파일 입출력을 이용해 리스트로 만들기\n",
    "#### (파일 입출력에 사용하는 open 함수를 이용해 CSV 파일 내부 데이터를 읽기)\n",
    "##### 파일의 경로를 file_path로 설정\n",
    "##### ex) file_path = \"./data-01-test-score.csv\""
   ],
   "metadata": {
    "collapsed": false,
    "pycharm": {
     "name": "#%% md\n"
    }
   }
  },
  {
   "cell_type": "code",
   "execution_count": 3,
   "outputs": [
    {
     "name": "stdout",
     "output_type": "stream",
     "text": [
      "73,80,75,152\n",
      "93,88,93,185\n",
      "89,91,90,180\n",
      "96,98,100,196\n",
      "73,66,70,142\n",
      "53,46,55,101\n",
      "69,74,77,149\n",
      "47,56,60,115\n",
      "87,79,90,175\n",
      "79,70,88,164\n",
      "69,70,73,141\n",
      "70,65,74,141\n",
      "93,95,91,184\n",
      "79,80,73,152\n",
      "70,73,78,148\n",
      "93,89,96,192\n",
      "78,75,68,147\n",
      "81,90,93,183\n",
      "88,92,86,177\n",
      "78,83,77,159\n",
      "82,86,90,177\n",
      "86,82,89,175\n",
      "78,83,85,175\n",
      "76,83,71,149\n",
      "96,93,95,192\n"
     ]
    }
   ],
   "source": [
    "def read_file(file_path):\n",
    "    f = open(file_path, \"r\")\n",
    "    contents = f.read()\n",
    "    f.close()\n",
    "    return contents\n",
    "\n",
    "file_path = './data-01-test-score.csv'\n",
    "print(read_file(file_path))"
   ],
   "metadata": {
    "collapsed": false,
    "pycharm": {
     "name": "#%%\n"
    }
   }
  },
  {
   "cell_type": "markdown",
   "source": [
    "### Q4. 효율성을 위하여 Q3.에 구현한 함수를 포함한 클래스를 구현\n",
    "#### (merge list를 이용해 리스트 내 데이터의 합을 출력/ 데이터를 합치기 전 데이터의 자료형을 변경)"
   ],
   "metadata": {
    "collapsed": false,
    "pycharm": {
     "name": "#%% md\n"
    }
   }
  },
  {
   "cell_type": "code",
   "execution_count": 4,
   "outputs": [
    {
     "name": "stdout",
     "output_type": "stream",
     "text": [
      "73,80,75,152\n",
      "93,88,93,185\n",
      "89,91,90,180\n",
      "96,98,100,196\n",
      "73,66,70,142\n",
      "53,46,55,101\n",
      "69,74,77,149\n",
      "47,56,60,115\n",
      "87,79,90,175\n",
      "79,70,88,164\n",
      "69,70,73,141\n",
      "70,65,74,141\n",
      "93,95,91,184\n",
      "79,80,73,152\n",
      "70,73,78,148\n",
      "93,89,96,192\n",
      "78,75,68,147\n",
      "81,90,93,183\n",
      "88,92,86,177\n",
      "78,83,77,159\n",
      "82,86,90,177\n",
      "86,82,89,175\n",
      "78,83,85,175\n",
      "76,83,71,149\n",
      "96,93,95,192\n",
      "[380, 459, 450, 490, 351, 255, 369, 278, 431, 401, 353, 350, 463, 384, 369, 470, 368, 447, 443, 397, 435, 432, 421, 379, 476]\n"
     ]
    }
   ],
   "source": [
    "import re\n",
    "\n",
    "class ReadCSV:\n",
    "    def __init__(self, file_path):\n",
    "        self.file_path = file_path\n",
    "\n",
    "    def read_file(self):\n",
    "        f = open(self.file_path, \"r\")\n",
    "        contents = f.read()\n",
    "        f.close()\n",
    "        return contents\n",
    "\n",
    "    def merge_list(self):\n",
    "        f = open(self.file_path, \"r\")\n",
    "        contents = f.readlines()\n",
    "        merglist = []\n",
    "        for content in contents:\n",
    "            content = content.strip()\n",
    "            nums = re.findall(r'\\d+', content)\n",
    "            merge = 0\n",
    "            for num in nums:\n",
    "                merge += int(num)\n",
    "\n",
    "            merglist.append(merge)\n",
    "        return merglist\n",
    "\n",
    "file_path = \"./data-01-test-score.csv\"\n",
    "read_csv = ReadCSV(file_path)\n",
    "print(read_csv.read_file())\n",
    "print(read_csv.merge_list())"
   ],
   "metadata": {
    "collapsed": false,
    "pycharm": {
     "name": "#%%\n"
    }
   }
  },
  {
   "cell_type": "markdown",
   "source": [
    "### Q5. Q4에서 구현한 클래스에서 merge_list 함수를 평균을 구하는 함수로 변경\n",
    "#### (리스트의 데이터를 다루는 함수를 이용해서 구현)"
   ],
   "metadata": {
    "collapsed": false,
    "pycharm": {
     "name": "#%% md\n"
    }
   }
  },
  {
   "cell_type": "code",
   "execution_count": 5,
   "outputs": [
    {
     "name": "stdout",
     "output_type": "stream",
     "text": [
      "[95.0, 114.75, 112.5, 122.5, 87.75, 63.75, 92.25, 69.5, 107.75, 100.25, 88.25, 87.5, 115.75, 96.0, 92.25, 117.5, 92.0, 111.75, 110.75, 99.25, 108.75, 108.0, 105.25, 94.75, 119.0]\n"
     ]
    }
   ],
   "source": [
    "import re\n",
    "\n",
    "class ReadCSV():\n",
    "    def __init__(self, file_path):\n",
    "        self.file_path = file_path\n",
    "\n",
    "    def read_file(self):\n",
    "        f = open(self.file_path, \"r\")\n",
    "        contents = f.read()\n",
    "        f.close()\n",
    "        return contents\n",
    "\n",
    "    def avrg_list(self):\n",
    "        f = open(self.file_path, \"r\")\n",
    "        contents = f.readlines()\n",
    "        merglist = []\n",
    "        for content in contents:\n",
    "            content = content.strip()\n",
    "            nums = re.findall(r'\\d+', content)\n",
    "            merge = 0\n",
    "            for num in nums:\n",
    "                merge += int(num)\n",
    "\n",
    "            merglist.append(merge/len(nums))\n",
    "        return merglist\n",
    "\n",
    "file_path = \"./data-01-test-score.csv\"\n",
    "read_csv = ReadCSV(file_path)\n",
    "print(read_csv.avrg_list())"
   ],
   "metadata": {
    "collapsed": false,
    "pycharm": {
     "name": "#%%\n"
    }
   }
  },
  {
   "cell_type": "code",
   "execution_count": null,
   "outputs": [],
   "source": [],
   "metadata": {
    "collapsed": false,
    "pycharm": {
     "name": "#%%\n"
    }
   }
  }
 ],
 "metadata": {
  "kernelspec": {
   "display_name": "Python 3",
   "language": "python",
   "name": "python3"
  },
  "language_info": {
   "codemirror_mode": {
    "name": "ipython",
    "version": 2
   },
   "file_extension": ".py",
   "mimetype": "text/x-python",
   "name": "python",
   "nbconvert_exporter": "python",
   "pygments_lexer": "ipython2",
   "version": "2.7.6"
  }
 },
 "nbformat": 4,
 "nbformat_minor": 0
}