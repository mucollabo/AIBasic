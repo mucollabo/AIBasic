{
 "cells": [
  {
   "cell_type": "markdown",
   "metadata": {
    "collapsed": true,
    "pycharm": {
     "name": "#%% md\n"
    }
   },
   "source": [
    "### Q1. MNIST 데이터셋을 Load 하고 DataLoader 를 구현하시오."
   ]
  },
  {
   "cell_type": "code",
   "execution_count": 1,
   "outputs": [],
   "source": [
    "import torch\n",
    "import torch.nn as nn\n",
    "import torchvision.datasets as dset\n",
    "import torchvision.transforms as transforms\n",
    "from torch.utils.data import DataLoader\n",
    "\n",
    "training_epochs = 15           # training 반복 횟수\n",
    "batch_size = 100\n",
    "\n",
    "root = './data'\n",
    "mnist_train = dset.MNIST(root=root, train=True, transform=transforms.ToTensor(), download=True)\n",
    "mnist_test = dset.MNIST(root=root, train=False, transform=transforms.ToTensor(), download=True)\n"
   ],
   "metadata": {
    "collapsed": false,
    "pycharm": {
     "name": "#%%\n"
    }
   }
  },
  {
   "cell_type": "code",
   "execution_count": 2,
   "outputs": [],
   "source": [
    "train_loader = DataLoader(mnist_train, batch_size=batch_size, shuffle=True, drop_last=True)\n",
    "test_loader = DataLoader(mnist_test, batch_size=batch_size, shuffle=False, drop_last=True)"
   ],
   "metadata": {
    "collapsed": false,
    "pycharm": {
     "name": "#%%\n"
    }
   }
  },
  {
   "cell_type": "markdown",
   "source": [
    "### Q2. 입력 데이터의 형태에 맞도록 linear한 모델을 구성/ 모델 안의 가중치를 초기화\n",
    "* MNIST 입력의 크기는 28X28\n",
    "* linear 모델은 입력이 1차원 -> 입력 차원 조정"
   ],
   "metadata": {
    "collapsed": false,
    "pycharm": {
     "name": "#%% md\n"
    }
   }
  },
  {
   "cell_type": "code",
   "execution_count": 3,
   "outputs": [
    {
     "data": {
      "text/plain": "Parameter containing:\ntensor([[-0.1179,  0.5428, -0.6434,  ..., -0.5106, -1.0171, -2.0350],\n        [ 0.7991,  0.4070, -0.2552,  ...,  0.7079,  0.8448,  0.2839],\n        [-1.4669,  0.9585, -2.0692,  ...,  1.0633, -1.1607, -0.9036],\n        ...,\n        [-2.2380, -1.4916,  2.5490,  ...,  0.7198,  1.1922, -1.9419],\n        [ 0.6132,  0.5182, -0.3646,  ..., -1.3781, -2.1501,  0.7688],\n        [ 0.9000,  1.1057, -1.1974,  ...,  1.5338, -0.7406, -0.7781]],\n       requires_grad=True)"
     },
     "execution_count": 3,
     "metadata": {},
     "output_type": "execute_result"
    }
   ],
   "source": [
    "device = torch.device('cuda' if torch.cuda.is_available() else 'cpu')\n",
    "# input 은 MNIST data image of shape 28 * 28 = 784, output 은 결과 값이 0 ~ 9 총 10개\n",
    "linear = nn.Linear(784, 10, bias=True).to(device)\n",
    "# 가중치 초기화\n",
    "nn.init.normal_(linear.weight)"
   ],
   "metadata": {
    "collapsed": false,
    "pycharm": {
     "name": "#%%\n"
    }
   }
  },
  {
   "cell_type": "markdown",
   "source": [
    "### 3. 제시된 loss 함수와 optimizer 를 구현 하세요.\n",
    "* loss fn - Cross Entropy Loss\n",
    "* optimizer - SGD"
   ],
   "metadata": {
    "collapsed": false,
    "pycharm": {
     "name": "#%% md\n"
    }
   }
  },
  {
   "cell_type": "code",
   "execution_count": 4,
   "outputs": [],
   "source": [
    "# loss 함수 구현\n",
    "criterion = nn.CrossEntropyLoss().to(device)\n",
    "# optimizer 구현, Stochastic Gradient Descent 사용, learning rate = 0.1\n",
    "optimizer = torch.optim.SGD(linear.parameters(), lr=0.1)"
   ],
   "metadata": {
    "collapsed": false,
    "pycharm": {
     "name": "#%%\n"
    }
   }
  },
  {
   "cell_type": "markdown",
   "source": [
    "### Q4. 위의 구현 함수들을 이용해 학습 Loop를 구현하시오."
   ],
   "metadata": {
    "collapsed": false,
    "pycharm": {
     "name": "#%% md\n"
    }
   }
  },
  {
   "cell_type": "code",
   "execution_count": 5,
   "outputs": [
    {
     "name": "stdout",
     "output_type": "stream",
     "text": [
      "Epoch:  0001 cost = 2.725812912 Accuracy: 68.00\n",
      "Epoch:  0002 cost = 1.067796588 Accuracy: 84.00\n",
      "Epoch:  0003 cost = 0.850940943 Accuracy: 85.00\n",
      "Epoch:  0004 cost = 0.744687498 Accuracy: 87.00\n",
      "Epoch:  0005 cost = 0.678898692 Accuracy: 84.00\n",
      "Epoch:  0006 cost = 0.631606698 Accuracy: 85.00\n",
      "Epoch:  0007 cost = 0.595635891 Accuracy: 88.00\n",
      "Epoch:  0008 cost = 0.567253172 Accuracy: 89.00\n",
      "Epoch:  0009 cost = 0.543816745 Accuracy: 92.00\n",
      "Epoch:  0010 cost = 0.524150670 Accuracy: 87.00\n",
      "Epoch:  0011 cost = 0.507252574 Accuracy: 89.00\n",
      "Epoch:  0012 cost = 0.492583752 Accuracy: 87.00\n",
      "Epoch:  0013 cost = 0.479427814 Accuracy: 88.00\n",
      "Epoch:  0014 cost = 0.468342304 Accuracy: 91.00\n",
      "Epoch:  0015 cost = 0.457778633 Accuracy: 89.00\n"
     ]
    }
   ],
   "source": [
    "for epoch in range(training_epochs):\n",
    "    avg_cost = 0\n",
    "    total_batch = len(train_loader)\n",
    "    for imgs, labels in train_loader:\n",
    "        imgs, labels = imgs.to(device), labels.to(device)\n",
    "        imgs = imgs.view(-1, 28*28)\n",
    "\n",
    "        outputs = linear(imgs)                 # output 구현\n",
    "        loss = criterion(outputs, labels)      # outputs와 labels를 비교해서 손실값 구하기\n",
    "\n",
    "        optimizer.zero_grad()                  # 초기화\n",
    "        loss.backward()                        # backpropagation 구현\n",
    "        optimizer.step()                       # optimizer 업데이트\n",
    "\n",
    "        _, argmax = torch.max(outputs, 1)\n",
    "        accuracy = (labels == argmax).float().mean()\n",
    "\n",
    "        avg_cost += loss / total_batch\n",
    "\n",
    "    print(\"Epoch: \", \"%04d\" % (epoch+1), \"cost =\", \"{:.9f}\".format(avg_cost), \"Accuracy: {:.2f}\".format(accuracy.item() * 100))\n"
   ],
   "metadata": {
    "collapsed": false,
    "pycharm": {
     "name": "#%%\n"
    }
   }
  },
  {
   "cell_type": "markdown",
   "source": [
    "### Q5. 테스트 데이터를 이용해 테스트를 진행 해보세요."
   ],
   "metadata": {
    "collapsed": false,
    "pycharm": {
     "name": "#%% md\n"
    }
   }
  },
  {
   "cell_type": "code",
   "execution_count": 6,
   "outputs": [
    {
     "name": "stdout",
     "output_type": "stream",
     "text": [
      "Test accuracy for 10000 images: 89.23%\n"
     ]
    }
   ],
   "source": [
    "linear.eval()\n",
    "with torch.no_grad():\n",
    "    correct = 0\n",
    "    total = 0\n",
    "    for i, (imgs, labels) in enumerate(test_loader):\n",
    "        imgs, labels = imgs.to(device), labels.to(device)\n",
    "        imgs = imgs.view(-1, 28 * 28)\n",
    "\n",
    "        outputs = linear(imgs)\n",
    "\n",
    "        _, argmax = torch.max(outputs, 1)\n",
    "        total += imgs.size(0)\n",
    "        correct += (labels == argmax).sum().item()\n",
    "\n",
    "    print(\"Test accuracy for {} images: {:.2f}%\".format(total, correct / total * 100))"
   ],
   "metadata": {
    "collapsed": false,
    "pycharm": {
     "name": "#%%\n"
    }
   }
  },
  {
   "cell_type": "code",
   "execution_count": null,
   "outputs": [],
   "source": [],
   "metadata": {
    "collapsed": false,
    "pycharm": {
     "name": "#%%\n"
    }
   }
  }
 ],
 "metadata": {
  "kernelspec": {
   "display_name": "Python 3",
   "language": "python",
   "name": "python3"
  },
  "language_info": {
   "codemirror_mode": {
    "name": "ipython",
    "version": 2
   },
   "file_extension": ".py",
   "mimetype": "text/x-python",
   "name": "python",
   "nbconvert_exporter": "python",
   "pygments_lexer": "ipython2",
   "version": "2.7.6"
  }
 },
 "nbformat": 4,
 "nbformat_minor": 0
}