{
 "cells": [
  {
   "cell_type": "markdown",
   "metadata": {
    "collapsed": true,
    "pycharm": {
     "name": "#%% md\n"
    }
   },
   "source": [
    "### Q.1 무작위 데이터를 가진 5x3의 행렬을 가지는 numpy array와 3x2 행렬을 가지는 numpy array를 만든 후 행렬곱 연산을 진행"
   ]
  },
  {
   "cell_type": "code",
   "execution_count": 1,
   "outputs": [],
   "source": [
    "import numpy as np\n",
    "\n",
    "arr1 = np.random.rand(5, 3)\n",
    "arr2 = np.random.rand(3, 2)\n",
    "\n",
    "dot = arr1 @ arr2"
   ],
   "metadata": {
    "collapsed": false,
    "pycharm": {
     "name": "#%%\n"
    }
   }
  },
  {
   "cell_type": "code",
   "execution_count": 2,
   "outputs": [
    {
     "name": "stdout",
     "output_type": "stream",
     "text": [
      "[[1.0188159  1.054193  ]\n",
      " [1.15064076 1.38147583]\n",
      " [0.57392096 0.80194314]\n",
      " [0.5570627  0.7357424 ]\n",
      " [1.10926218 1.15101475]] (5, 2)\n"
     ]
    }
   ],
   "source": [
    "print(dot, dot.shape)"
   ],
   "metadata": {
    "collapsed": false,
    "pycharm": {
     "name": "#%%\n"
    }
   }
  },
  {
   "cell_type": "markdown",
   "source": [
    "### Q2. 두 numpy array의 concatenate 연산을 구하시오."
   ],
   "metadata": {
    "collapsed": false,
    "pycharm": {
     "name": "#%% md\n"
    }
   }
  },
  {
   "cell_type": "code",
   "execution_count": 3,
   "outputs": [
    {
     "name": "stdout",
     "output_type": "stream",
     "text": [
      "[[ 5.  7.]\n",
      " [ 9. 11.]\n",
      " [ 2.  4.]\n",
      " [ 6.  8.]]\n",
      "[[ 5.  7.  2.  4.]\n",
      " [ 9. 11.  6.  8.]]\n"
     ]
    }
   ],
   "source": [
    "import numpy as np\n",
    "\n",
    "arr1 = np.array([[5, 7], [9, 11]], float)\n",
    "arr2 = np.array([[2, 4], [6, 8]], float)\n",
    "\n",
    "concat_1 = np.concatenate((arr1, arr2), axis=0)\n",
    "concat_2 = np.concatenate((arr1, arr2), axis=1)\n",
    "\n",
    "print(concat_1)\n",
    "print(concat_2)"
   ],
   "metadata": {
    "collapsed": false,
    "pycharm": {
     "name": "#%%\n"
    }
   }
  },
  {
   "cell_type": "markdown",
   "source": [
    "### Q3. 주어진 데이터를 경사하강법을 위해 데이터를 분리 하시오."
   ],
   "metadata": {
    "collapsed": false,
    "pycharm": {
     "name": "#%% md\n"
    }
   }
  },
  {
   "cell_type": "code",
   "execution_count": 4,
   "outputs": [
    {
     "name": "stdout",
     "output_type": "stream",
     "text": [
      "[1. 2. 3. 4. 5. 6.] (6,)\n",
      "[10. 20. 30. 40. 50. 60.] (6,)\n"
     ]
    }
   ],
   "source": [
    "import numpy as np\n",
    "\n",
    "xy = np.array([[1., 2., 3., 4., 5., 6.],\n",
    "              [10., 20., 30., 40., 50., 60.]])\n",
    "\n",
    "x_train = xy[0]\n",
    "y_train = xy[1]\n",
    "\n",
    "print(x_train, x_train.shape)\n",
    "print(y_train, y_train.shape)"
   ],
   "metadata": {
    "collapsed": false,
    "pycharm": {
     "name": "#%%\n"
    }
   }
  },
  {
   "cell_type": "markdown",
   "source": [
    "### Q4. 경사 하강법 구현을 위해서 분리한 x_train 데이터와 계산될 weight, bias 값을 정의해보세요."
   ],
   "metadata": {
    "collapsed": false,
    "pycharm": {
     "name": "#%% md\n"
    }
   }
  },
  {
   "cell_type": "code",
   "execution_count": 5,
   "outputs": [
    {
     "name": "stdout",
     "output_type": "stream",
     "text": [
      "[0.33461002] [0.2382222]\n"
     ]
    }
   ],
   "source": [
    "import numpy as np\n",
    "\n",
    "beta_gd = np.random.rand(1)\n",
    "bias = np.random.rand(1)\n",
    "\n",
    "print(beta_gd, bias)"
   ],
   "metadata": {
    "collapsed": false,
    "pycharm": {
     "name": "#%%\n"
    }
   }
  },
  {
   "cell_type": "markdown",
   "source": [
    "### Q5. linear regression을 경사하강법 구현을 위한 학습 Loop 으로 구현 하시오.\n",
    "#### (최종적으로 1000회 반복했을 시에 결과를 출력)"
   ],
   "metadata": {
    "collapsed": false,
    "pycharm": {
     "name": "#%% md\n"
    }
   }
  },
  {
   "cell_type": "code",
   "execution_count": 6,
   "outputs": [
    {
     "name": "stdout",
     "output_type": "stream",
     "text": [
      "Epoch (         0/1000) error: 122.896784, beta_gd:   0.867597, bias:  0.846405\n",
      "Epoch (       100/1000) error:   0.151653, beta_gd:   2.793396, bias:  0.884512\n",
      "Epoch (       200/1000) error:   0.072994, beta_gd:   2.856664, bias:  0.613650\n",
      "Epoch (       300/1000) error:   0.035133, beta_gd:   2.900557, bias:  0.425733\n",
      "Epoch (       400/1000) error:   0.016910, beta_gd:   2.931009, bias:  0.295362\n",
      "Epoch (       500/1000) error:   0.008139, beta_gd:   2.952136, bias:  0.204914\n",
      "Epoch (       600/1000) error:   0.003918, beta_gd:   2.966793, bias:  0.142164\n",
      "Epoch (       700/1000) error:   0.001886, beta_gd:   2.976962, bias:  0.098629\n",
      "Epoch (       800/1000) error:   0.000908, beta_gd:   2.984017, bias:  0.068426\n",
      "Epoch (       900/1000) error:   0.000437, beta_gd:   2.988911, bias:  0.047472\n"
     ]
    }
   ],
   "source": [
    "import numpy as np\n",
    "\n",
    "xy = np.array([[1., 2., 3., 4., 5., 6.],\n",
    "              [3., 6., 9., 12., 15., 18.]])\n",
    "\n",
    "x_train = xy[0]\n",
    "y_train = xy[1]\n",
    "\n",
    "beta_gd = np.random.rand(1)\n",
    "bias = np.random.rand(1)\n",
    "\n",
    "learning_rate = 0.01\n",
    "\n",
    "for i in range(1000):\n",
    "    pred = (x_train * beta_gd) + bias\n",
    "    error = ((pred - y_train) ** 2).mean()\n",
    "\n",
    "    gd_w = ((pred - y_train) * 2 * x_train).mean()\n",
    "    gd_b = ((pred - y_train) * 2).mean()\n",
    "\n",
    "    beta_gd -= learning_rate * gd_w\n",
    "    bias -= learning_rate * gd_b\n",
    "\n",
    "    if i % 100 == 0:\n",
    "        print('Epoch ({:10d}/1000) error: {:10f}, beta_gd: {:10f}, bias:{:10f}'.format(i, error, beta_gd.item(), bias.item()))"
   ],
   "metadata": {
    "collapsed": false,
    "pycharm": {
     "name": "#%%\n"
    }
   }
  },
  {
   "cell_type": "code",
   "execution_count": null,
   "outputs": [],
   "source": [],
   "metadata": {
    "collapsed": false,
    "pycharm": {
     "name": "#%%\n"
    }
   }
  }
 ],
 "metadata": {
  "kernelspec": {
   "display_name": "Python 3",
   "language": "python",
   "name": "python3"
  },
  "language_info": {
   "codemirror_mode": {
    "name": "ipython",
    "version": 2
   },
   "file_extension": ".py",
   "mimetype": "text/x-python",
   "name": "python",
   "nbconvert_exporter": "python",
   "pygments_lexer": "ipython2",
   "version": "2.7.6"
  }
 },
 "nbformat": 4,
 "nbformat_minor": 0
}