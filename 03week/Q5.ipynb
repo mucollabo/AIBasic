{
 "cells": [
  {
   "cell_type": "markdown",
   "metadata": {
    "collapsed": true,
    "pycharm": {
     "name": "#%% md\n"
    }
   },
   "source": [
    "### Q5. linear regression을 경사하강법 구현을 위한 학습 Loop 으로 구현 하시오.\n",
    "#### (최종적으로 1000회 반복했을 시에 결과를 출력)"
   ]
  },
  {
   "cell_type": "code",
   "execution_count": 3,
   "outputs": [
    {
     "name": "stdout",
     "output_type": "stream",
     "text": [
      "Epoch (         0/1000) error: 120.156944, beta_gd:   0.960159, bias:  0.538590\n",
      "Epoch (       100/1000) error:   0.086440, beta_gd:   2.844019, bias:  0.667783\n",
      "Epoch (       200/1000) error:   0.041605, beta_gd:   2.891785, bias:  0.463290\n",
      "Epoch (       300/1000) error:   0.020025, beta_gd:   2.924923, bias:  0.321418\n",
      "Epoch (       400/1000) error:   0.009639, beta_gd:   2.947914, bias:  0.222991\n",
      "Epoch (       500/1000) error:   0.004639, beta_gd:   2.963864, bias:  0.154705\n",
      "Epoch (       600/1000) error:   0.002233, beta_gd:   2.974930, bias:  0.107330\n",
      "Epoch (       700/1000) error:   0.001075, beta_gd:   2.982607, bias:  0.074463\n",
      "Epoch (       800/1000) error:   0.000517, beta_gd:   2.987933, bias:  0.051660\n",
      "Epoch (       900/1000) error:   0.000249, beta_gd:   2.991628, bias:  0.035840\n"
     ]
    }
   ],
   "source": [
    "import numpy as np\n",
    "\n",
    "xy = np.array([[1., 2., 3., 4., 5., 6.],\n",
    "              [3., 6., 9., 12., 15., 18.]])\n",
    "\n",
    "x_train = xy[0]\n",
    "y_train = xy[1]\n",
    "\n",
    "beta_gd = np.random.rand(1)\n",
    "bias = np.random.rand(1)\n",
    "\n",
    "learning_rate = 0.01\n",
    "\n",
    "for i in range(1000):\n",
    "    pred = (x_train * beta_gd) + bias\n",
    "    error = ((pred - y_train) ** 2).mean()\n",
    "\n",
    "    gd_w = ((pred - y_train) * 2 * x_train).mean()\n",
    "    gd_b = ((pred - y_train) * 2).mean()\n",
    "\n",
    "    beta_gd -= learning_rate * gd_w\n",
    "    bias -= learning_rate * gd_b\n",
    "\n",
    "    if i % 100 == 0:\n",
    "        print('Epoch ({:10d}/1000) error: {:10f}, beta_gd: {:10f}, bias:{:10f}'.format(i, error, beta_gd.item(), bias.item()))"
   ],
   "metadata": {
    "collapsed": false,
    "pycharm": {
     "name": "#%%\n"
    }
   }
  },
  {
   "cell_type": "code",
   "execution_count": null,
   "outputs": [],
   "source": [],
   "metadata": {
    "collapsed": false,
    "pycharm": {
     "name": "#%%\n"
    }
   }
  }
 ],
 "metadata": {
  "kernelspec": {
   "display_name": "Python 3",
   "language": "python",
   "name": "python3"
  },
  "language_info": {
   "codemirror_mode": {
    "name": "ipython",
    "version": 2
   },
   "file_extension": ".py",
   "mimetype": "text/x-python",
   "name": "python",
   "nbconvert_exporter": "python",
   "pygments_lexer": "ipython2",
   "version": "2.7.6"
  }
 },
 "nbformat": 4,
 "nbformat_minor": 0
}