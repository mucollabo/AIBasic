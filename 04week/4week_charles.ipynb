{
 "cells": [
  {
   "cell_type": "markdown",
   "metadata": {
    "collapsed": true,
    "pycharm": {
     "name": "#%% md\n"
    }
   },
   "source": [
    "### Q1. 주어진 데이터에서 10이상 20이하의 데이터만 출력하는 Series를 재정의 해보세요."
   ]
  },
  {
   "cell_type": "code",
   "execution_count": 1,
   "outputs": [
    {
     "name": "stdout",
     "output_type": "stream",
     "text": [
      "HDD      19\n",
      "SSD      11\n",
      "USB       5\n",
      "CLOUD    97\n",
      "dtype: int64\n",
      "-------------------\n",
      "HDD    19\n",
      "SSD    11\n",
      "dtype: int64\n"
     ]
    }
   ],
   "source": [
    "import pandas as pd\n",
    "\n",
    "idx = [\"HDD\", \"SSD\", \"USB\", \"CLOUD\"]\n",
    "data = [19, 11, 5, 97]\n",
    "\n",
    "series = pd.Series(data, index=idx)      # pandas Series 생성\n",
    "\n",
    "print(series)\n",
    "print(\"-------------------\")\n",
    "series = series[(series >=10) & (series <= 20)]    # series의 조건 설정하여 재입력 조건은 ()로 묶어주고 다중조건 사이는 & 또는 | 사용\n",
    "print(series)"
   ],
   "metadata": {
    "collapsed": false,
    "pycharm": {
     "name": "#%%\n"
    }
   }
  },
  {
   "cell_type": "markdown",
   "source": [
    "### Q2. 두 데이터를 하나의 데이터로 결합하세요/ 결합한 데이터의 type을 이용해 데이터를 정렬해보세요/ 과일과 야채 중 가장 비싼 가격의 합을 출력해보세요."
   ],
   "metadata": {
    "collapsed": false,
    "pycharm": {
     "name": "#%% md\n"
    }
   }
  },
  {
   "cell_type": "code",
   "execution_count": 2,
   "outputs": [
    {
     "data": {
      "text/plain": "     Name       Type  Price\n0  cherry      Fruit    100\n1   mango      Fruit    110\n2  potato  Vegetable     60\n3   onion  Vegetable     80\n0  pepper  Vegetable     50\n1  carrot  Vegetable     70\n2  banana      Fruit     90\n3    kiwi      Fruit    120",
      "text/html": "<div>\n<style scoped>\n    .dataframe tbody tr th:only-of-type {\n        vertical-align: middle;\n    }\n\n    .dataframe tbody tr th {\n        vertical-align: top;\n    }\n\n    .dataframe thead th {\n        text-align: right;\n    }\n</style>\n<table border=\"1\" class=\"dataframe\">\n  <thead>\n    <tr style=\"text-align: right;\">\n      <th></th>\n      <th>Name</th>\n      <th>Type</th>\n      <th>Price</th>\n    </tr>\n  </thead>\n  <tbody>\n    <tr>\n      <th>0</th>\n      <td>cherry</td>\n      <td>Fruit</td>\n      <td>100</td>\n    </tr>\n    <tr>\n      <th>1</th>\n      <td>mango</td>\n      <td>Fruit</td>\n      <td>110</td>\n    </tr>\n    <tr>\n      <th>2</th>\n      <td>potato</td>\n      <td>Vegetable</td>\n      <td>60</td>\n    </tr>\n    <tr>\n      <th>3</th>\n      <td>onion</td>\n      <td>Vegetable</td>\n      <td>80</td>\n    </tr>\n    <tr>\n      <th>0</th>\n      <td>pepper</td>\n      <td>Vegetable</td>\n      <td>50</td>\n    </tr>\n    <tr>\n      <th>1</th>\n      <td>carrot</td>\n      <td>Vegetable</td>\n      <td>70</td>\n    </tr>\n    <tr>\n      <th>2</th>\n      <td>banana</td>\n      <td>Fruit</td>\n      <td>90</td>\n    </tr>\n    <tr>\n      <th>3</th>\n      <td>kiwi</td>\n      <td>Fruit</td>\n      <td>120</td>\n    </tr>\n  </tbody>\n</table>\n</div>"
     },
     "execution_count": 2,
     "metadata": {},
     "output_type": "execute_result"
    }
   ],
   "source": [
    "df1 = pd.DataFrame([['cherry', 'Fruit', 100],            # 데이터 프레임 생성\n",
    "                    ['mango', 'Fruit', 110],\n",
    "                    ['potato', 'Vegetable', 60],\n",
    "                    ['onion', 'Vegetable', 80]], columns=['Name', 'Type', 'Price']) # 컬럼 지정\n",
    "\n",
    "df2 = pd.DataFrame([['pepper', 'Vegetable', 50],         # 데이터 프레임 생성\n",
    "                    ['carrot', 'Vegetable', 70],\n",
    "                    ['banana', 'Fruit', 90],\n",
    "                    ['kiwi', 'Fruit', 120]], columns=['Name', 'Type', 'Price']) # 컬럼 지정\n",
    "\n",
    "df3 = pd.concat([df1, df2])            # 데이터 프레임 df1, df2 를 pd.concat()을 활용하여 결합\n",
    "df3"
   ],
   "metadata": {
    "collapsed": false,
    "pycharm": {
     "name": "#%%\n"
    }
   }
  },
  {
   "cell_type": "code",
   "execution_count": 3,
   "outputs": [
    {
     "data": {
      "text/plain": "     Name   Type  Price\n3    kiwi  Fruit    120\n1   mango  Fruit    110\n0  cherry  Fruit    100\n2  banana  Fruit     90",
      "text/html": "<div>\n<style scoped>\n    .dataframe tbody tr th:only-of-type {\n        vertical-align: middle;\n    }\n\n    .dataframe tbody tr th {\n        vertical-align: top;\n    }\n\n    .dataframe thead th {\n        text-align: right;\n    }\n</style>\n<table border=\"1\" class=\"dataframe\">\n  <thead>\n    <tr style=\"text-align: right;\">\n      <th></th>\n      <th>Name</th>\n      <th>Type</th>\n      <th>Price</th>\n    </tr>\n  </thead>\n  <tbody>\n    <tr>\n      <th>3</th>\n      <td>kiwi</td>\n      <td>Fruit</td>\n      <td>120</td>\n    </tr>\n    <tr>\n      <th>1</th>\n      <td>mango</td>\n      <td>Fruit</td>\n      <td>110</td>\n    </tr>\n    <tr>\n      <th>0</th>\n      <td>cherry</td>\n      <td>Fruit</td>\n      <td>100</td>\n    </tr>\n    <tr>\n      <th>2</th>\n      <td>banana</td>\n      <td>Fruit</td>\n      <td>90</td>\n    </tr>\n  </tbody>\n</table>\n</div>"
     },
     "execution_count": 3,
     "metadata": {},
     "output_type": "execute_result"
    }
   ],
   "source": [
    "df_fruit = df3.loc[df3['Type'] == 'Fruit']                                # df3 중 'Type'이 'Fruit'만 추출\n",
    "df_fruit = df_fruit.sort_values(by=['Price'], axis=0, ascending=False)    # 'Price'를 내림차순으로 정렬\n",
    "df_fruit"
   ],
   "metadata": {
    "collapsed": false,
    "pycharm": {
     "name": "#%%\n"
    }
   }
  },
  {
   "cell_type": "code",
   "execution_count": 4,
   "outputs": [
    {
     "data": {
      "text/plain": "     Name       Type  Price\n3   onion  Vegetable     80\n1  carrot  Vegetable     70\n2  potato  Vegetable     60\n0  pepper  Vegetable     50",
      "text/html": "<div>\n<style scoped>\n    .dataframe tbody tr th:only-of-type {\n        vertical-align: middle;\n    }\n\n    .dataframe tbody tr th {\n        vertical-align: top;\n    }\n\n    .dataframe thead th {\n        text-align: right;\n    }\n</style>\n<table border=\"1\" class=\"dataframe\">\n  <thead>\n    <tr style=\"text-align: right;\">\n      <th></th>\n      <th>Name</th>\n      <th>Type</th>\n      <th>Price</th>\n    </tr>\n  </thead>\n  <tbody>\n    <tr>\n      <th>3</th>\n      <td>onion</td>\n      <td>Vegetable</td>\n      <td>80</td>\n    </tr>\n    <tr>\n      <th>1</th>\n      <td>carrot</td>\n      <td>Vegetable</td>\n      <td>70</td>\n    </tr>\n    <tr>\n      <th>2</th>\n      <td>potato</td>\n      <td>Vegetable</td>\n      <td>60</td>\n    </tr>\n    <tr>\n      <th>0</th>\n      <td>pepper</td>\n      <td>Vegetable</td>\n      <td>50</td>\n    </tr>\n  </tbody>\n</table>\n</div>"
     },
     "execution_count": 4,
     "metadata": {},
     "output_type": "execute_result"
    }
   ],
   "source": [
    "df_veg = df3.loc[df3['Type'] == 'Vegetable']                            # df3 중 'Type'이 'Vegetable'만 추출\n",
    "df_veg = df_veg.sort_values(by=['Price'], axis=0, ascending=False)      # 'Price'를 내림차순으로 정렬\n",
    "df_veg"
   ],
   "metadata": {
    "collapsed": false,
    "pycharm": {
     "name": "#%%\n"
    }
   }
  },
  {
   "cell_type": "code",
   "execution_count": 5,
   "outputs": [
    {
     "name": "stdout",
     "output_type": "stream",
     "text": [
      "Sum of Top 2 Fruit Price :  230\n",
      "Sum of Top 2 Vegetable Price :  150\n"
     ]
    }
   ],
   "source": [
    "print(\"Sum of Top 2 Fruit Price : \", sum(df_fruit[:2]['Price']))       # df_fruit 의 'Price' 상위 2개를 추출하여 sum\n",
    "print(\"Sum of Top 2 Vegetable Price : \", sum(df_veg[:2]['Price']))     # df_veg 의 'Price' 상위 2개를 추출하여 sum"
   ],
   "metadata": {
    "collapsed": false,
    "pycharm": {
     "name": "#%%\n"
    }
   }
  },
  {
   "cell_type": "markdown",
   "source": [
    "### Q3. 참여자의 이름을 index로 해서 각 라운드의 columns를 추가해 데이터를 정리하세요./ 6번째 라운드의 점수가 아래와 같을 때, 이를 추가해보세요./ 각 데이터의 mean, max, min 값을 출력해보세요."
   ],
   "metadata": {
    "collapsed": false,
    "pycharm": {
     "name": "#%% md\n"
    }
   }
  },
  {
   "cell_type": "code",
   "execution_count": 6,
   "outputs": [],
   "source": [
    "import pandas as pd\n",
    "\n",
    "idx = [\"Sue\", \"Ryan\", \"Jay\", \"Jane\", \"Anna\"]\n",
    "col = [\"round_1\", \"round_2\", \"round_3\", \"round_4\", \"round_5\"]\n",
    "data = [[55, 65, 69, 66, 57],\n",
    "        [64, 77, 71, 79, 67],\n",
    "        [88, 81, 79, 89, 77],\n",
    "        [45, 35, 30, 46, 47],\n",
    "        [91, 96, 90, 97, 99]]"
   ],
   "metadata": {
    "collapsed": false,
    "pycharm": {
     "name": "#%%\n"
    }
   }
  },
  {
   "cell_type": "code",
   "execution_count": 7,
   "outputs": [
    {
     "data": {
      "text/plain": "      round_1  round_2  round_3  round_4  round_5\nSue        55       65       69       66       57\nRyan       64       77       71       79       67\nJay        88       81       79       89       77\nJane       45       35       30       46       47\nAnna       91       96       90       97       99",
      "text/html": "<div>\n<style scoped>\n    .dataframe tbody tr th:only-of-type {\n        vertical-align: middle;\n    }\n\n    .dataframe tbody tr th {\n        vertical-align: top;\n    }\n\n    .dataframe thead th {\n        text-align: right;\n    }\n</style>\n<table border=\"1\" class=\"dataframe\">\n  <thead>\n    <tr style=\"text-align: right;\">\n      <th></th>\n      <th>round_1</th>\n      <th>round_2</th>\n      <th>round_3</th>\n      <th>round_4</th>\n      <th>round_5</th>\n    </tr>\n  </thead>\n  <tbody>\n    <tr>\n      <th>Sue</th>\n      <td>55</td>\n      <td>65</td>\n      <td>69</td>\n      <td>66</td>\n      <td>57</td>\n    </tr>\n    <tr>\n      <th>Ryan</th>\n      <td>64</td>\n      <td>77</td>\n      <td>71</td>\n      <td>79</td>\n      <td>67</td>\n    </tr>\n    <tr>\n      <th>Jay</th>\n      <td>88</td>\n      <td>81</td>\n      <td>79</td>\n      <td>89</td>\n      <td>77</td>\n    </tr>\n    <tr>\n      <th>Jane</th>\n      <td>45</td>\n      <td>35</td>\n      <td>30</td>\n      <td>46</td>\n      <td>47</td>\n    </tr>\n    <tr>\n      <th>Anna</th>\n      <td>91</td>\n      <td>96</td>\n      <td>90</td>\n      <td>97</td>\n      <td>99</td>\n    </tr>\n  </tbody>\n</table>\n</div>"
     },
     "execution_count": 7,
     "metadata": {},
     "output_type": "execute_result"
    }
   ],
   "source": [
    "df = pd.DataFrame(data, index=idx, columns=col)  # 'idx'를 index로 'col'을 columns로 하는 df생성\n",
    "df"
   ],
   "metadata": {
    "collapsed": false,
    "pycharm": {
     "name": "#%%\n"
    }
   }
  },
  {
   "cell_type": "code",
   "execution_count": 8,
   "outputs": [
    {
     "data": {
      "text/plain": "      round_1  round_2  round_3  round_4  round_5  round_6\nSue        55       65       69       66       57       11\nRyan       64       77       71       79       67       15\nJay        88       81       79       89       77       13\nJane       45       35       30       46       47       17\nAnna       91       96       90       97       99       19",
      "text/html": "<div>\n<style scoped>\n    .dataframe tbody tr th:only-of-type {\n        vertical-align: middle;\n    }\n\n    .dataframe tbody tr th {\n        vertical-align: top;\n    }\n\n    .dataframe thead th {\n        text-align: right;\n    }\n</style>\n<table border=\"1\" class=\"dataframe\">\n  <thead>\n    <tr style=\"text-align: right;\">\n      <th></th>\n      <th>round_1</th>\n      <th>round_2</th>\n      <th>round_3</th>\n      <th>round_4</th>\n      <th>round_5</th>\n      <th>round_6</th>\n    </tr>\n  </thead>\n  <tbody>\n    <tr>\n      <th>Sue</th>\n      <td>55</td>\n      <td>65</td>\n      <td>69</td>\n      <td>66</td>\n      <td>57</td>\n      <td>11</td>\n    </tr>\n    <tr>\n      <th>Ryan</th>\n      <td>64</td>\n      <td>77</td>\n      <td>71</td>\n      <td>79</td>\n      <td>67</td>\n      <td>15</td>\n    </tr>\n    <tr>\n      <th>Jay</th>\n      <td>88</td>\n      <td>81</td>\n      <td>79</td>\n      <td>89</td>\n      <td>77</td>\n      <td>13</td>\n    </tr>\n    <tr>\n      <th>Jane</th>\n      <td>45</td>\n      <td>35</td>\n      <td>30</td>\n      <td>46</td>\n      <td>47</td>\n      <td>17</td>\n    </tr>\n    <tr>\n      <th>Anna</th>\n      <td>91</td>\n      <td>96</td>\n      <td>90</td>\n      <td>97</td>\n      <td>99</td>\n      <td>19</td>\n    </tr>\n  </tbody>\n</table>\n</div>"
     },
     "execution_count": 8,
     "metadata": {},
     "output_type": "execute_result"
    }
   ],
   "source": [
    "round_6 = [11, 15, 13, 17, 19]     # 6라운드 점수 리스트\n",
    "df[\"round_6\"] = round_6            # df에 column 명 'round_6'로 하는 6라운드 점수 추가\n",
    "df"
   ],
   "metadata": {
    "collapsed": false,
    "pycharm": {
     "name": "#%%\n"
    }
   }
  },
  {
   "cell_type": "code",
   "execution_count": 9,
   "outputs": [
    {
     "data": {
      "text/plain": "      round_1  round_2  round_3  round_4  round_5  round_6\nmean     68.6     70.8     67.8     75.4     69.4     15.0\nmax      91.0     96.0     90.0     97.0     99.0     19.0\nmin      45.0     35.0     30.0     46.0     47.0     11.0",
      "text/html": "<div>\n<style scoped>\n    .dataframe tbody tr th:only-of-type {\n        vertical-align: middle;\n    }\n\n    .dataframe tbody tr th {\n        vertical-align: top;\n    }\n\n    .dataframe thead th {\n        text-align: right;\n    }\n</style>\n<table border=\"1\" class=\"dataframe\">\n  <thead>\n    <tr style=\"text-align: right;\">\n      <th></th>\n      <th>round_1</th>\n      <th>round_2</th>\n      <th>round_3</th>\n      <th>round_4</th>\n      <th>round_5</th>\n      <th>round_6</th>\n    </tr>\n  </thead>\n  <tbody>\n    <tr>\n      <th>mean</th>\n      <td>68.6</td>\n      <td>70.8</td>\n      <td>67.8</td>\n      <td>75.4</td>\n      <td>69.4</td>\n      <td>15.0</td>\n    </tr>\n    <tr>\n      <th>max</th>\n      <td>91.0</td>\n      <td>96.0</td>\n      <td>90.0</td>\n      <td>97.0</td>\n      <td>99.0</td>\n      <td>19.0</td>\n    </tr>\n    <tr>\n      <th>min</th>\n      <td>45.0</td>\n      <td>35.0</td>\n      <td>30.0</td>\n      <td>46.0</td>\n      <td>47.0</td>\n      <td>11.0</td>\n    </tr>\n  </tbody>\n</table>\n</div>"
     },
     "execution_count": 9,
     "metadata": {},
     "output_type": "execute_result"
    }
   ],
   "source": [
    "df.describe().loc[['mean', 'max', 'min']]     # 각 컬럼의 중 해당 되는 통계값 출력"
   ],
   "metadata": {
    "collapsed": false,
    "pycharm": {
     "name": "#%%\n"
    }
   }
  },
  {
   "cell_type": "markdown",
   "source": [
    "### Q4. 주어진 t 가 주어져있을때, 예시에 제안 된 그래프를 출력하세요."
   ],
   "metadata": {
    "collapsed": false,
    "pycharm": {
     "name": "#%% md\n"
    }
   }
  },
  {
   "cell_type": "code",
   "execution_count": 10,
   "outputs": [
    {
     "data": {
      "text/plain": "<Figure size 432x288 with 1 Axes>",
      "image/png": "[encoded data removed]"
     },
     "metadata": {
      "needs_background": "light"
     },
     "output_type": "display_data"
    }
   ],
   "source": [
    "import numpy as np\n",
    "import matplotlib.pyplot as plt\n",
    "\n",
    "t = np.arange(0., 5., 0.2)\n",
    "\n",
    "plt.plot(t, t, 'r--', t, t**2, 'bs', t, t**3, 'g^')  # red = 'r', dash = '--', blue = 'b', square = 's', green = 'g', (up)triangle = '^'\n",
    "plt.show()"
   ],
   "metadata": {
    "collapsed": false,
    "pycharm": {
     "name": "#%%\n"
    }
   }
  },
  {
   "cell_type": "markdown",
   "source": [
    "### Q5. 주어진 데이터에 대하여 예시와 같은 형태로 그래프를 출력해보세요.(각각 막대, 점, 선 그래프)"
   ],
   "metadata": {
    "collapsed": false,
    "pycharm": {
     "name": "#%% md\n"
    }
   }
  },
  {
   "cell_type": "code",
   "execution_count": 11,
   "outputs": [
    {
     "data": {
      "text/plain": "<Figure size 648x216 with 3 Axes>",
      "image/png": "[encoded data removed]"
     },
     "metadata": {
      "needs_background": "light"
     },
     "output_type": "display_data"
    }
   ],
   "source": [
    "import matplotlib.pyplot as plt\n",
    "\n",
    "names = ['group_a', 'group_b', 'group_c']\n",
    "values = [1, 10, 100]\n",
    "\n",
    "plt.figure(figsize=(9, 3))\n",
    "\n",
    "plt.subplot(1, 3, 1)            # 여러개의 그래프 그리기 중 1해 3열 중 1열\n",
    "plt.bar(names, values)          # 막대 그리기 bar() 를 활용\n",
    "plt.subplot(1, 3, 2)            # 여러개의 그래프 그리기 중 1해 3열 중 1열\n",
    "plt.scatter(names, values)      # 점 그리기 scatter() 를 활용\n",
    "plt.subplot(1, 3, 3)            # 여러개의 그래프 그리기 중 1해 3열 중 1열\n",
    "plt.plot(names, values)         # 선 그리기 plot() 를 활용\n",
    "plt.show()"
   ],
   "metadata": {
    "collapsed": false,
    "pycharm": {
     "name": "#%%\n"
    }
   }
  },
  {
   "cell_type": "code",
   "execution_count": null,
   "outputs": [],
   "source": [],
   "metadata": {
    "collapsed": false,
    "pycharm": {
     "name": "#%%\n"
    }
   }
  }
 ],
 "metadata": {
  "kernelspec": {
   "display_name": "Python 3",
   "language": "python",
   "name": "python3"
  },
  "language_info": {
   "codemirror_mode": {
    "name": "ipython",
    "version": 2
   },
   "file_extension": ".py",
   "mimetype": "text/x-python",
   "name": "python",
   "nbconvert_exporter": "python",
   "pygments_lexer": "ipython2",
   "version": "2.7.6"
  }
 },
 "nbformat": 4,
 "nbformat_minor": 0
}