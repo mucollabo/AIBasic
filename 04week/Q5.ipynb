{
 "cells": [
  {
   "cell_type": "markdown",
   "metadata": {
    "collapsed": true,
    "pycharm": {
     "name": "#%% md\n"
    }
   },
   "source": [
    "### Q5. 주어진 데이터에 대하여 예시와 같은 형태로 그래프를 출력해보세요.(각각 막대, 점, 선 그래프)"
   ]
  },
  {
   "cell_type": "code",
   "execution_count": 8,
   "outputs": [
    {
     "data": {
      "text/plain": "<Figure size 648x216 with 3 Axes>",
      "image/png": "[encoded data removed]"
     },
     "metadata": {
      "needs_background": "light"
     },
     "output_type": "display_data"
    }
   ],
   "source": [
    "import matplotlib.pyplot as plt\n",
    "\n",
    "names = ['group_a', 'group_b', 'group_c']\n",
    "values = [1, 10, 100]\n",
    "\n",
    "plt.figure(figsize=(9, 3))\n",
    "\n",
    "plt.subplot(1, 3, 1)            # 여러개의 그래프 그리기 중 1해 3열 중 1열\n",
    "plt.bar(names, values)          # 막대 그리기 bar() 를 활용\n",
    "plt.subplot(1, 3, 2)            # 여러개의 그래프 그리기 중 1해 3열 중 1열\n",
    "plt.scatter(names, values)      # 점 그리기 scatter() 를 활용\n",
    "plt.subplot(1, 3, 3)            # 여러개의 그래프 그리기 중 1해 3열 중 1열\n",
    "plt.plot(names, values)         # 선 그리기 plot() 를 활용\n",
    "plt.show()"
   ],
   "metadata": {
    "collapsed": false,
    "pycharm": {
     "name": "#%%\n"
    }
   }
  },
  {
   "cell_type": "code",
   "execution_count": null,
   "outputs": [],
   "source": [],
   "metadata": {
    "collapsed": false,
    "pycharm": {
     "name": "#%%\n"
    }
   }
  }
 ],
 "metadata": {
  "kernelspec": {
   "display_name": "Python 3",
   "language": "python",
   "name": "python3"
  },
  "language_info": {
   "codemirror_mode": {
    "name": "ipython",
    "version": 2
   },
   "file_extension": ".py",
   "mimetype": "text/x-python",
   "name": "python",
   "nbconvert_exporter": "python",
   "pygments_lexer": "ipython2",
   "version": "2.7.6"
  }
 },
 "nbformat": 4,
 "nbformat_minor": 0
}