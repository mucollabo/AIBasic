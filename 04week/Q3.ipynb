{
 "cells": [
  {
   "cell_type": "markdown",
   "metadata": {
    "collapsed": true,
    "pycharm": {
     "name": "#%% md\n"
    }
   },
   "source": [
    "### Q3. 참여자의 이름을 index로 해서 각 라운드의 columns를 추가해 데이터를 정리하세요./ 6번째 라운드의 점수가 아래와 같을 때, 이를 추가해보세요./ 각 데이터의 mean, max, min 값을 출력해보세요."
   ]
  },
  {
   "cell_type": "code",
   "execution_count": 2,
   "outputs": [],
   "source": [
    "import pandas as pd\n",
    "\n",
    "idx = [\"Sue\", \"Ryan\", \"Jay\", \"Jane\", \"Anna\"]\n",
    "col = [\"round_1\", \"round_2\", \"round_3\", \"round_4\", \"round_5\"]\n",
    "data = [[55, 65, 69, 66, 57],\n",
    "        [64, 77, 71, 79, 67],\n",
    "        [88, 81, 79, 89, 77],\n",
    "        [45, 35, 30, 46, 47],\n",
    "        [91, 96, 90, 97, 99]]\n"
   ],
   "metadata": {
    "collapsed": false,
    "pycharm": {
     "name": "#%%\n"
    }
   }
  },
  {
   "cell_type": "code",
   "execution_count": 3,
   "outputs": [
    {
     "data": {
      "text/plain": "      round_1  round_2  round_3  round_4  round_5\nSue        55       65       69       66       57\nRyan       64       77       71       79       67\nJay        88       81       79       89       77\nJane       45       35       30       46       47\nAnna       91       96       90       97       99",
      "text/html": "<div>\n<style scoped>\n    .dataframe tbody tr th:only-of-type {\n        vertical-align: middle;\n    }\n\n    .dataframe tbody tr th {\n        vertical-align: top;\n    }\n\n    .dataframe thead th {\n        text-align: right;\n    }\n</style>\n<table border=\"1\" class=\"dataframe\">\n  <thead>\n    <tr style=\"text-align: right;\">\n      <th></th>\n      <th>round_1</th>\n      <th>round_2</th>\n      <th>round_3</th>\n      <th>round_4</th>\n      <th>round_5</th>\n    </tr>\n  </thead>\n  <tbody>\n    <tr>\n      <th>Sue</th>\n      <td>55</td>\n      <td>65</td>\n      <td>69</td>\n      <td>66</td>\n      <td>57</td>\n    </tr>\n    <tr>\n      <th>Ryan</th>\n      <td>64</td>\n      <td>77</td>\n      <td>71</td>\n      <td>79</td>\n      <td>67</td>\n    </tr>\n    <tr>\n      <th>Jay</th>\n      <td>88</td>\n      <td>81</td>\n      <td>79</td>\n      <td>89</td>\n      <td>77</td>\n    </tr>\n    <tr>\n      <th>Jane</th>\n      <td>45</td>\n      <td>35</td>\n      <td>30</td>\n      <td>46</td>\n      <td>47</td>\n    </tr>\n    <tr>\n      <th>Anna</th>\n      <td>91</td>\n      <td>96</td>\n      <td>90</td>\n      <td>97</td>\n      <td>99</td>\n    </tr>\n  </tbody>\n</table>\n</div>"
     },
     "execution_count": 3,
     "metadata": {},
     "output_type": "execute_result"
    }
   ],
   "source": [
    "df = pd.DataFrame(data, index=idx, columns=col)  # 'idx'를 index로 'col'을 columns로 하는 df생성\n",
    "df"
   ],
   "metadata": {
    "collapsed": false,
    "pycharm": {
     "name": "#%%\n"
    }
   }
  },
  {
   "cell_type": "code",
   "execution_count": 4,
   "outputs": [
    {
     "data": {
      "text/plain": "      round_1  round_2  round_3  round_4  round_5  round_6\nSue        55       65       69       66       57       11\nRyan       64       77       71       79       67       15\nJay        88       81       79       89       77       13\nJane       45       35       30       46       47       17\nAnna       91       96       90       97       99       19",
      "text/html": "<div>\n<style scoped>\n    .dataframe tbody tr th:only-of-type {\n        vertical-align: middle;\n    }\n\n    .dataframe tbody tr th {\n        vertical-align: top;\n    }\n\n    .dataframe thead th {\n        text-align: right;\n    }\n</style>\n<table border=\"1\" class=\"dataframe\">\n  <thead>\n    <tr style=\"text-align: right;\">\n      <th></th>\n      <th>round_1</th>\n      <th>round_2</th>\n      <th>round_3</th>\n      <th>round_4</th>\n      <th>round_5</th>\n      <th>round_6</th>\n    </tr>\n  </thead>\n  <tbody>\n    <tr>\n      <th>Sue</th>\n      <td>55</td>\n      <td>65</td>\n      <td>69</td>\n      <td>66</td>\n      <td>57</td>\n      <td>11</td>\n    </tr>\n    <tr>\n      <th>Ryan</th>\n      <td>64</td>\n      <td>77</td>\n      <td>71</td>\n      <td>79</td>\n      <td>67</td>\n      <td>15</td>\n    </tr>\n    <tr>\n      <th>Jay</th>\n      <td>88</td>\n      <td>81</td>\n      <td>79</td>\n      <td>89</td>\n      <td>77</td>\n      <td>13</td>\n    </tr>\n    <tr>\n      <th>Jane</th>\n      <td>45</td>\n      <td>35</td>\n      <td>30</td>\n      <td>46</td>\n      <td>47</td>\n      <td>17</td>\n    </tr>\n    <tr>\n      <th>Anna</th>\n      <td>91</td>\n      <td>96</td>\n      <td>90</td>\n      <td>97</td>\n      <td>99</td>\n      <td>19</td>\n    </tr>\n  </tbody>\n</table>\n</div>"
     },
     "execution_count": 4,
     "metadata": {},
     "output_type": "execute_result"
    }
   ],
   "source": [
    "round_6 = [11, 15, 13, 17, 19]     # 6라운드 점수 리스트\n",
    "df[\"round_6\"] = round_6            # df에 column 명 'round_6'로 하는 6라운드 점수 추가\n",
    "df"
   ],
   "metadata": {
    "collapsed": false,
    "pycharm": {
     "name": "#%%\n"
    }
   }
  },
  {
   "cell_type": "code",
   "execution_count": 20,
   "outputs": [
    {
     "data": {
      "text/plain": "      round_1  round_2  round_3  round_4  round_5  round_6\nmean     68.6     70.8     67.8     75.4     69.4     15.0\nmax      91.0     96.0     90.0     97.0     99.0     19.0\nmin      45.0     35.0     30.0     46.0     47.0     11.0",
      "text/html": "<div>\n<style scoped>\n    .dataframe tbody tr th:only-of-type {\n        vertical-align: middle;\n    }\n\n    .dataframe tbody tr th {\n        vertical-align: top;\n    }\n\n    .dataframe thead th {\n        text-align: right;\n    }\n</style>\n<table border=\"1\" class=\"dataframe\">\n  <thead>\n    <tr style=\"text-align: right;\">\n      <th></th>\n      <th>round_1</th>\n      <th>round_2</th>\n      <th>round_3</th>\n      <th>round_4</th>\n      <th>round_5</th>\n      <th>round_6</th>\n    </tr>\n  </thead>\n  <tbody>\n    <tr>\n      <th>mean</th>\n      <td>68.6</td>\n      <td>70.8</td>\n      <td>67.8</td>\n      <td>75.4</td>\n      <td>69.4</td>\n      <td>15.0</td>\n    </tr>\n    <tr>\n      <th>max</th>\n      <td>91.0</td>\n      <td>96.0</td>\n      <td>90.0</td>\n      <td>97.0</td>\n      <td>99.0</td>\n      <td>19.0</td>\n    </tr>\n    <tr>\n      <th>min</th>\n      <td>45.0</td>\n      <td>35.0</td>\n      <td>30.0</td>\n      <td>46.0</td>\n      <td>47.0</td>\n      <td>11.0</td>\n    </tr>\n  </tbody>\n</table>\n</div>"
     },
     "execution_count": 20,
     "metadata": {},
     "output_type": "execute_result"
    }
   ],
   "source": [
    "df.describe().loc[['mean', 'max', 'min']]     # 각 컬럼의 중 해당 되는 통계값 출력"
   ],
   "metadata": {
    "collapsed": false,
    "pycharm": {
     "name": "#%%\n"
    }
   }
  },
  {
   "cell_type": "code",
   "execution_count": null,
   "outputs": [],
   "source": [],
   "metadata": {
    "collapsed": false,
    "pycharm": {
     "name": "#%%\n"
    }
   }
  }
 ],
 "metadata": {
  "kernelspec": {
   "display_name": "Python 3",
   "language": "python",
   "name": "python3"
  },
  "language_info": {
   "codemirror_mode": {
    "name": "ipython",
    "version": 2
   },
   "file_extension": ".py",
   "mimetype": "text/x-python",
   "name": "python",
   "nbconvert_exporter": "python",
   "pygments_lexer": "ipython2",
   "version": "2.7.6"
  }
 },
 "nbformat": 4,
 "nbformat_minor": 0
}