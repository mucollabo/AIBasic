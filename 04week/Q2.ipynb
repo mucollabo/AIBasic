{
 "cells": [
  {
   "cell_type": "markdown",
   "metadata": {
    "collapsed": true,
    "pycharm": {
     "name": "#%% md\n"
    }
   },
   "source": [
    "### Q2. 두 데이터를 하나의 데이터로 결합하세요/ 결합한 데이터의 type을 이용해 데이터를 정렬해보세요/ 과일과 야채 중 가장 비싼 가격의 합을 출력해보세요."
   ]
  },
  {
   "cell_type": "code",
   "execution_count": 6,
   "outputs": [
    {
     "data": {
      "text/plain": "     Name       Type  Price\n0  cherry      Fruit    100\n1   mango      Fruit    110\n2  potato  Vegetable     60\n3   onion  Vegetable     80\n0  pepper  Vegetable     50\n1  carrot  Vegetable     70\n2  banana      Fruit     90\n3    kiwi      Fruit    120",
      "text/html": "<div>\n<style scoped>\n    .dataframe tbody tr th:only-of-type {\n        vertical-align: middle;\n    }\n\n    .dataframe tbody tr th {\n        vertical-align: top;\n    }\n\n    .dataframe thead th {\n        text-align: right;\n    }\n</style>\n<table border=\"1\" class=\"dataframe\">\n  <thead>\n    <tr style=\"text-align: right;\">\n      <th></th>\n      <th>Name</th>\n      <th>Type</th>\n      <th>Price</th>\n    </tr>\n  </thead>\n  <tbody>\n    <tr>\n      <th>0</th>\n      <td>cherry</td>\n      <td>Fruit</td>\n      <td>100</td>\n    </tr>\n    <tr>\n      <th>1</th>\n      <td>mango</td>\n      <td>Fruit</td>\n      <td>110</td>\n    </tr>\n    <tr>\n      <th>2</th>\n      <td>potato</td>\n      <td>Vegetable</td>\n      <td>60</td>\n    </tr>\n    <tr>\n      <th>3</th>\n      <td>onion</td>\n      <td>Vegetable</td>\n      <td>80</td>\n    </tr>\n    <tr>\n      <th>0</th>\n      <td>pepper</td>\n      <td>Vegetable</td>\n      <td>50</td>\n    </tr>\n    <tr>\n      <th>1</th>\n      <td>carrot</td>\n      <td>Vegetable</td>\n      <td>70</td>\n    </tr>\n    <tr>\n      <th>2</th>\n      <td>banana</td>\n      <td>Fruit</td>\n      <td>90</td>\n    </tr>\n    <tr>\n      <th>3</th>\n      <td>kiwi</td>\n      <td>Fruit</td>\n      <td>120</td>\n    </tr>\n  </tbody>\n</table>\n</div>"
     },
     "execution_count": 6,
     "metadata": {},
     "output_type": "execute_result"
    }
   ],
   "source": [
    "import pandas as pd\n",
    "\n",
    "df1 = pd.DataFrame([['cherry', 'Fruit', 100],            # 데이터 프레임 생성\n",
    "                    ['mango', 'Fruit', 110],\n",
    "                    ['potato', 'Vegetable', 60],\n",
    "                    ['onion', 'Vegetable', 80]], columns=['Name', 'Type', 'Price']) # 컬럼 지정\n",
    "\n",
    "df2 = pd.DataFrame([['pepper', 'Vegetable', 50],         # 데이터 프레임 생성\n",
    "                    ['carrot', 'Vegetable', 70],\n",
    "                    ['banana', 'Fruit', 90],\n",
    "                    ['kiwi', 'Fruit', 120]], columns=['Name', 'Type', 'Price']) # 컬럼 지정\n",
    "\n",
    "df3 = pd.concat([df1, df2])            # 데이터 프레임 df1, df2 를 pd.concat()을 활용하여 결합\n",
    "df3\n"
   ],
   "metadata": {
    "collapsed": false,
    "pycharm": {
     "name": "#%%\n"
    }
   }
  },
  {
   "cell_type": "code",
   "execution_count": 17,
   "outputs": [
    {
     "data": {
      "text/plain": "     Name   Type  Price\n3    kiwi  Fruit    120\n1   mango  Fruit    110\n0  cherry  Fruit    100\n2  banana  Fruit     90",
      "text/html": "<div>\n<style scoped>\n    .dataframe tbody tr th:only-of-type {\n        vertical-align: middle;\n    }\n\n    .dataframe tbody tr th {\n        vertical-align: top;\n    }\n\n    .dataframe thead th {\n        text-align: right;\n    }\n</style>\n<table border=\"1\" class=\"dataframe\">\n  <thead>\n    <tr style=\"text-align: right;\">\n      <th></th>\n      <th>Name</th>\n      <th>Type</th>\n      <th>Price</th>\n    </tr>\n  </thead>\n  <tbody>\n    <tr>\n      <th>3</th>\n      <td>kiwi</td>\n      <td>Fruit</td>\n      <td>120</td>\n    </tr>\n    <tr>\n      <th>1</th>\n      <td>mango</td>\n      <td>Fruit</td>\n      <td>110</td>\n    </tr>\n    <tr>\n      <th>0</th>\n      <td>cherry</td>\n      <td>Fruit</td>\n      <td>100</td>\n    </tr>\n    <tr>\n      <th>2</th>\n      <td>banana</td>\n      <td>Fruit</td>\n      <td>90</td>\n    </tr>\n  </tbody>\n</table>\n</div>"
     },
     "execution_count": 17,
     "metadata": {},
     "output_type": "execute_result"
    }
   ],
   "source": [
    "df_fruit = df3.loc[df3['Type'] == 'Fruit']                                # df3 중 'Type'이 'Fruit'만 추출\n",
    "df_fruit = df_fruit.sort_values(by=['Price'], axis=0, ascending=False)    # 'Price'를 내림차순으로 정렬\n",
    "df_fruit\n"
   ],
   "metadata": {
    "collapsed": false,
    "pycharm": {
     "name": "#%%\n"
    }
   }
  },
  {
   "cell_type": "code",
   "execution_count": 18,
   "outputs": [
    {
     "data": {
      "text/plain": "     Name       Type  Price\n3   onion  Vegetable     80\n1  carrot  Vegetable     70\n2  potato  Vegetable     60\n0  pepper  Vegetable     50",
      "text/html": "<div>\n<style scoped>\n    .dataframe tbody tr th:only-of-type {\n        vertical-align: middle;\n    }\n\n    .dataframe tbody tr th {\n        vertical-align: top;\n    }\n\n    .dataframe thead th {\n        text-align: right;\n    }\n</style>\n<table border=\"1\" class=\"dataframe\">\n  <thead>\n    <tr style=\"text-align: right;\">\n      <th></th>\n      <th>Name</th>\n      <th>Type</th>\n      <th>Price</th>\n    </tr>\n  </thead>\n  <tbody>\n    <tr>\n      <th>3</th>\n      <td>onion</td>\n      <td>Vegetable</td>\n      <td>80</td>\n    </tr>\n    <tr>\n      <th>1</th>\n      <td>carrot</td>\n      <td>Vegetable</td>\n      <td>70</td>\n    </tr>\n    <tr>\n      <th>2</th>\n      <td>potato</td>\n      <td>Vegetable</td>\n      <td>60</td>\n    </tr>\n    <tr>\n      <th>0</th>\n      <td>pepper</td>\n      <td>Vegetable</td>\n      <td>50</td>\n    </tr>\n  </tbody>\n</table>\n</div>"
     },
     "execution_count": 18,
     "metadata": {},
     "output_type": "execute_result"
    }
   ],
   "source": [
    "df_veg = df3.loc[df3['Type'] == 'Vegetable']                            # df3 중 'Type'이 'Vegetable'만 추출\n",
    "df_veg = df_veg.sort_values(by=['Price'], axis=0, ascending=False)      # 'Price'를 내림차순으로 정렬\n",
    "df_veg"
   ],
   "metadata": {
    "collapsed": false,
    "pycharm": {
     "name": "#%%\n"
    }
   }
  },
  {
   "cell_type": "code",
   "execution_count": 21,
   "outputs": [
    {
     "name": "stdout",
     "output_type": "stream",
     "text": [
      "Sum of Top 2 Fruit Price :  230\n",
      "Sum of Top 2 Vegetable Price :  150\n"
     ]
    }
   ],
   "source": [
    "print(\"Sum of Top 2 Fruit Price : \", sum(df_fruit[:2]['Price']))       # df_fruit 의 'Price' 상위 2개를 추출하여 sum\n",
    "print(\"Sum of Top 2 Vegetable Price : \", sum(df_veg[:2]['Price']))     # df_veg 의 'Price' 상위 2개를 추출하여 sum\n"
   ],
   "metadata": {
    "collapsed": false,
    "pycharm": {
     "name": "#%%\n"
    }
   }
  },
  {
   "cell_type": "code",
   "execution_count": null,
   "outputs": [],
   "source": [],
   "metadata": {
    "collapsed": false,
    "pycharm": {
     "name": "#%%\n"
    }
   }
  }
 ],
 "metadata": {
  "kernelspec": {
   "display_name": "Python 3",
   "language": "python",
   "name": "python3"
  },
  "language_info": {
   "codemirror_mode": {
    "name": "ipython",
    "version": 2
   },
   "file_extension": ".py",
   "mimetype": "text/x-python",
   "name": "python",
   "nbconvert_exporter": "python",
   "pygments_lexer": "ipython2",
   "version": "2.7.6"
  }
 },
 "nbformat": 4,
 "nbformat_minor": 0
}